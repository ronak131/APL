{
 "cells": [
  {
   "cell_type": "markdown",
   "metadata": {},
   "source": [
    "# Import Required Libraries"
   ]
  },
  {
   "cell_type": "code",
   "execution_count": 2,
   "metadata": {},
   "outputs": [],
   "source": [
    "import json\n",
    "import os"
   ]
  },
  {
   "cell_type": "markdown",
   "metadata": {},
   "source": [
    "# Read JSON File"
   ]
  },
  {
   "cell_type": "code",
   "execution_count": 3,
   "metadata": {},
   "outputs": [],
   "source": [
    "directory=os.getcwd() #Getting the current working directory\n",
    "data=[] #Creating an empty list to load json data into it\n",
    "for root , _ , files in os.walk(directory): #Walking through the directory to get json data\n",
    "    for file in files:\n",
    "        if file.endswith('.json') and file!='covid19_summary.json':\n",
    "            file_path=os.path.join(root,file)\n",
    "            with open(file_path,'r') as f:\n",
    "                d=json.load(f)\n",
    "                data.append(d)"
   ]
  },
  {
   "cell_type": "markdown",
   "metadata": {},
   "source": [
    "# Calculating required statistics"
   ]
  },
  {
   "cell_type": "code",
   "execution_count": 4,
   "metadata": {},
   "outputs": [
    {
     "name": "stdout",
     "output_type": "stream",
     "text": [
      "Missing key in India data: 'Date'\n",
      "Type error in India data: unsupported operand type(s) for +=: 'int' and 'str'\n"
     ]
    }
   ],
   "source": [
    "statistics = []  # Empty list to store the statistics of each country\n",
    "for entry in data:\n",
    "    country = entry['country']\n",
    "    try:\n",
    "        if entry['date'] == \"\":  #check for a missing date\n",
    "            raise KeyError(\"Date\")\n",
    "        found = False\n",
    "        # Check if the country already exists in the statistics list\n",
    "        for stat in statistics:\n",
    "            if stat['country'] == country:\n",
    "                stat['total confirmed cases'] += entry['confirmed_cases']['total']\n",
    "                stat['total deaths'] += entry['deaths']['total']\n",
    "                stat['total recovered cases'] += entry['recovered']['total']\n",
    "                stat['total active cases'] = stat['total confirmed cases'] - stat['total deaths'] - stat['total recovered cases']\n",
    "                found = True\n",
    "                break\n",
    "        # If the country is not found, add it as a new entry in the statistics list\n",
    "        if not found:\n",
    "            statistics.append({\n",
    "                'country': country,\n",
    "                'total confirmed cases': entry['confirmed_cases']['total'],\n",
    "                'total deaths': entry['deaths']['total'],\n",
    "                'total recovered cases': entry['recovered']['total'],\n",
    "                'total active cases': entry['confirmed_cases']['total'] - entry['deaths']['total'] - entry['recovered']['total']\n",
    "            })\n",
    "    except KeyError as e:\n",
    "        print(f\"Missing key in {country} data: {e}\")\n",
    "    except TypeError as e:\n",
    "        print(f\"Type error in {country} data: {e}\")"
   ]
  },
  {
   "cell_type": "markdown",
   "metadata": {},
   "source": [
    "# Determine Top 5 Countries with highest cases and lowest cases"
   ]
  },
  {
   "cell_type": "code",
   "execution_count": 5,
   "metadata": {},
   "outputs": [
    {
     "name": "stdout",
     "output_type": "stream",
     "text": [
      "Top 5 Countries with highest cases:\n",
      "Pakistan : 461530\n",
      "USA : 506385\n",
      "Canada : 517720\n",
      "Germany : 558799\n",
      "Nepal : 602278\n",
      "Top 5 Countries with Lowest cases:\n",
      "India : 395483\n",
      "Brazil : 454602\n",
      "Pakistan : 461530\n",
      "USA : 506385\n",
      "Canada : 517720\n"
     ]
    }
   ],
   "source": [
    "sorted_statistics=sorted(statistics,key=lambda x:x['total confirmed cases']) #Sorts the statistics list based on key 'total confirmed cases'\n",
    "top5_highest_cases=sorted_statistics[-5:] \n",
    "top5_lowest_cases=sorted_statistics[:5]\n",
    "print(\"Top 5 Countries with highest cases:\")\n",
    "for data in top5_highest_cases:\n",
    "    print(f\"{data['country']} : {data['total confirmed cases']}\")\n",
    "print(\"Top 5 Countries with Lowest cases:\")\n",
    "for data in top5_lowest_cases:\n",
    "    print(f\"{data['country']} : {data['total confirmed cases']}\")"
   ]
  },
  {
   "cell_type": "markdown",
   "metadata": {},
   "source": [
    "# Generate summary report that includes all statistics"
   ]
  },
  {
   "cell_type": "code",
   "execution_count": 6,
   "metadata": {},
   "outputs": [],
   "source": [
    "with open('covid19_summary.json','w') as f: #Saves the statistics of each country in json file 'covid19_summary.json'\n",
    "    json.dump(statistics,f,indent=3)"
   ]
  },
  {
   "cell_type": "code",
   "execution_count": 7,
   "metadata": {},
   "outputs": [
    {
     "name": "stdout",
     "output_type": "stream",
     "text": [
      "Country: USA\n",
      "Total confirmed cases: 506385\n",
      "Total recovered: 233641\n",
      "Total deaths: 18438\n",
      "Total active cases: 254306\n",
      "Country: India\n",
      "Total confirmed cases: 395483\n",
      "Total recovered: 172506\n",
      "Total deaths: 21538\n",
      "Total active cases: 201439\n",
      "Not found\n",
      "Not found\n",
      "Country: Pakistan\n",
      "Total confirmed cases: 461530\n",
      "Total recovered: 267040\n",
      "Total deaths: 20879\n",
      "Total active cases: 173611\n"
     ]
    }
   ],
   "source": [
    "# Load the JSON data from the file\n",
    "with open(\"covid19_summary.json\", 'r') as j:\n",
    "    data_ = json.load(j)\n",
    "\n",
    "# Get the user input for the country name\n",
    "while True:\n",
    "    country_ = input(\"Enter the name of the country or type 'e' to exit: \").lower()\n",
    "    if country_ == 'e':\n",
    "        break\n",
    "    # Initialize a flag to check if the country is found\n",
    "    found = False\n",
    "\n",
    "    # Loop through each entry in the JSON data\n",
    "    for entry in data_:\n",
    "        # Check if the country matches the user input\n",
    "        if country_ == entry['country'].lower():\n",
    "            # If found, print the details\n",
    "            print(f\"Country: {entry['country']}\")\n",
    "            print(f\"Total confirmed cases: {entry['total confirmed cases']}\")\n",
    "            print(f\"Total recovered: {entry['total recovered cases']}\")\n",
    "            print(f\"Total deaths: {entry['total deaths']}\")\n",
    "            print(f\"Total active cases: {entry['total active cases']}\")\n",
    "            found = True  # Set the flag to True\n",
    "            break  # Exit the loop as we found the country\n",
    "\n",
    "    # If the country was not found in the data, inform the user\n",
    "    if not found:\n",
    "        \n",
    "        print(\"Not found\")"
   ]
  }
 ],
 "metadata": {
  "kernelspec": {
   "display_name": "Python 3",
   "language": "python",
   "name": "python3"
  },
  "language_info": {
   "codemirror_mode": {
    "name": "ipython",
    "version": 3
   },
   "file_extension": ".py",
   "mimetype": "text/x-python",
   "name": "python",
   "nbconvert_exporter": "python",
   "pygments_lexer": "ipython3",
   "version": "3.12.4"
  }
 },
 "nbformat": 4,
 "nbformat_minor": 2
}
