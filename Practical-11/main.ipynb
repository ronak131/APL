{
 "cells": [
  {
   "cell_type": "markdown",
   "metadata": {},
   "source": [
    "# Import Required Libraries"
   ]
  },
  {
   "cell_type": "code",
   "execution_count": 8,
   "metadata": {},
   "outputs": [],
   "source": [
    "import hashlib\n",
    "import os\n",
    "import pandas as pd"
   ]
  },
  {
   "cell_type": "markdown",
   "metadata": {},
   "source": [
    "# Function to sign in or log in"
   ]
  },
  {
   "cell_type": "code",
   "execution_count": 9,
   "metadata": {},
   "outputs": [],
   "source": [
    "file = 'user.csv'\n",
    "\n",
    "# Hash password using SHA-256\n",
    "def hash_password(password):\n",
    "    return hashlib.sha256(password.encode()).hexdigest()\n",
    "\n",
    "# Check if the CSV file exists, and create it if not\n",
    "def check_csv_file():\n",
    "    if not os.path.exists(file):\n",
    "        df = pd.DataFrame(columns=['username', 'password'])\n",
    "        df.to_csv(file, index=False)\n",
    "\n",
    "# Load all users into memory as a dictionary \n",
    "def load_users():\n",
    "    check_csv_file()\n",
    "    df = pd.read_csv(file)\n",
    "    return pd.Series(df.password.values, index=df.username).to_dict()\n",
    "\n",
    "# Save a new user to the CSV file\n",
    "def save_user(username, hashed_password):\n",
    "    df = pd.read_csv(file)\n",
    "    new_user = pd.DataFrame([[username, hashed_password]], columns=['username', 'password'])\n",
    "    df = pd.concat([df, new_user], ignore_index=True)\n",
    "    df.to_csv(file, index=False)\n",
    "\n",
    "# Register a new user\n",
    "def register_user(users):\n",
    "    username = input(\"Enter a username: \")\n",
    "    if username in users:\n",
    "        print(\"Username already exists.\")\n",
    "    else:\n",
    "        save_user(username, hash_password(input(\"Enter a password: \")))\n",
    "        print(f\"User {username} registered successfully!\")\n",
    "\n",
    "# Log in a user\n",
    "def login_user(users):\n",
    "    username = input(\"Enter your username: \")\n",
    "    password = hash_password(input(\"Enter your password: \"))\n",
    "    if users[username] == password:\n",
    "        print(f\"Login successful! Welcome, {username}.\")\n",
    "    else:\n",
    "        print(\"Invalid username or password.\")"
   ]
  },
  {
   "cell_type": "markdown",
   "metadata": {},
   "source": [
    "# Main function "
   ]
  },
  {
   "cell_type": "code",
   "execution_count": null,
   "metadata": {},
   "outputs": [
    {
     "name": "stdout",
     "output_type": "stream",
     "text": [
      "1. Sign Up\n",
      "\n",
      "2. Login\n",
      "\n",
      "3. Exit\n",
      "\n",
      "User rohit76 registered successfully!\n",
      "1. Sign Up\n",
      "\n",
      "2. Login\n",
      "\n",
      "3. Exit\n",
      "\n",
      "Login successful! Welcome, rohit76.\n",
      "1. Sign Up\n",
      "\n",
      "2. Login\n",
      "\n",
      "3. Exit\n",
      "\n"
     ]
    }
   ],
   "source": [
    "def main():\n",
    "    users = load_users()  # Load users only once\n",
    "    while True:\n",
    "        print(\"1. Sign Up\\n\")\n",
    "        print(\"2. Login\\n\")\n",
    "        print(\"3. Exit\\n\")\n",
    "        choice=int(input(\"Choose an option: \"))\n",
    "        if choice == 1:\n",
    "            register_user(users)\n",
    "            users = load_users()  # Reload users after registration\n",
    "        elif choice == 2:\n",
    "            login_user(users)\n",
    "        elif choice == 3:\n",
    "            break\n",
    "        else:\n",
    "            print(\"Invalid option.\")\n",
    "\n",
    "if __name__ == \"__main__\":\n",
    "    main()"
   ]
  }
 ],
 "metadata": {
  "kernelspec": {
   "display_name": "Python 3",
   "language": "python",
   "name": "python3"
  },
  "language_info": {
   "codemirror_mode": {
    "name": "ipython",
    "version": 3
   },
   "file_extension": ".py",
   "mimetype": "text/x-python",
   "name": "python",
   "nbconvert_exporter": "python",
   "pygments_lexer": "ipython3",
   "version": "3.12.4"
  }
 },
 "nbformat": 4,
 "nbformat_minor": 2
}
