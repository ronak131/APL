{
 "cells": [
  {
   "cell_type": "markdown",
   "metadata": {},
   "source": [
    "# Import Required Libraries"
   ]
  },
  {
   "cell_type": "code",
   "execution_count": 1,
   "metadata": {},
   "outputs": [],
   "source": [
    "import logging"
   ]
  },
  {
   "cell_type": "markdown",
   "metadata": {},
   "source": [
    "# Setup logging Configuration"
   ]
  },
  {
   "cell_type": "code",
   "execution_count": 2,
   "metadata": {},
   "outputs": [],
   "source": [
    "logging.basicConfig(filename='calculator.log',level=logging.INFO,format='%(asctime)s - %(levelname)s - %(message)s')"
   ]
  },
  {
   "cell_type": "markdown",
   "metadata": {},
   "source": [
    "# Function to calculate arithmetic operation and check user input"
   ]
  },
  {
   "cell_type": "code",
   "execution_count": 3,
   "metadata": {},
   "outputs": [],
   "source": [
    "def add(a,b):\n",
    "    logging.info(f'adding {a} & {b}')\n",
    "    return a+b\n",
    "def multiply(a,b):\n",
    "    logging.info(f'multiplying {a} & {b}')\n",
    "    return a*b\n",
    "def subtract(a,b):\n",
    "    logging.info(f'subtracting {a} & {b}')\n",
    "    return a-b\n",
    "def divide(a,b):\n",
    "    if b==0:\n",
    "        logging.error(\"Trying to divide by Zero!!!\")\n",
    "        return None\n",
    "    logging.info(f'divding {a} & {b}')\n",
    "    return a/b\n",
    "def check_input(a,b):\n",
    "    if not isinstance(a,int) or not isinstance(b,int):\n",
    "        logging.error(\"Invalid Input!!!\")\n",
    "        return False\n",
    "    return True"
   ]
  },
  {
   "cell_type": "markdown",
   "metadata": {},
   "source": [
    "# Main function "
   ]
  },
  {
   "cell_type": "code",
   "execution_count": 4,
   "metadata": {},
   "outputs": [],
   "source": [
    "def main():\n",
    "    a=int(input(\"Enter 1st number: \"))\n",
    "    b=int(input(\"Enter 2nd number: \"))\n",
    "    op = input(\"Enter the operator (+, -, *, /): \")\n",
    "    logging.info(f'Calculating {a} {op} {b}.....')\n",
    "    if op == '+':\n",
    "        result = add(a, b)\n",
    "    elif op == '-':\n",
    "        result = subtract(a, b)\n",
    "    elif op == '*':\n",
    "        result = multiply(a, b)\n",
    "    elif op == '/':\n",
    "        result = divide(a, b)\n",
    "        if result is None:\n",
    "            logging.warning(\"Can't perform division by zero.\")\n",
    "            print(\"Can't divide by zero.\")\n",
    "            return\n",
    "    else:\n",
    "        logging.error(f\"Invalid operator: {op}\")\n",
    "        print(\"Invalid operator. Please use one of +, -, *, or /.\")\n",
    "        return\n",
    "    logging.info(f\"Result: {a} {op} {b} = {result}\")\n",
    "    print(f\"{a} {op} {b} = {result}\") "
   ]
  },
  {
   "cell_type": "code",
   "execution_count": 5,
   "metadata": {},
   "outputs": [
    {
     "name": "stdout",
     "output_type": "stream",
     "text": [
      "Can't divide by zero.\n"
     ]
    }
   ],
   "source": [
    "if __name__ == '__main__':\n",
    "    main()"
   ]
  }
 ],
 "metadata": {
  "kernelspec": {
   "display_name": "Python 3",
   "language": "python",
   "name": "python3"
  },
  "language_info": {
   "codemirror_mode": {
    "name": "ipython",
    "version": 3
   },
   "file_extension": ".py",
   "mimetype": "text/x-python",
   "name": "python",
   "nbconvert_exporter": "python",
   "pygments_lexer": "ipython3",
   "version": "3.12.4"
  }
 },
 "nbformat": 4,
 "nbformat_minor": 2
}
