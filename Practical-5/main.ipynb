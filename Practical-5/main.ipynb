{
 "cells": [
  {
   "cell_type": "markdown",
   "metadata": {},
   "source": [
    "# Importing Required Libraries"
   ]
  },
  {
   "cell_type": "code",
   "execution_count": 69,
   "metadata": {},
   "outputs": [],
   "source": [
    "import pandas as pd\n",
    "import os"
   ]
  },
  {
   "cell_type": "markdown",
   "metadata": {},
   "source": [
    "# Combining all the data in a single dataframe"
   ]
  },
  {
   "cell_type": "code",
   "execution_count": 70,
   "metadata": {},
   "outputs": [
    {
     "data": {
      "text/html": [
       "<div>\n",
       "<style scoped>\n",
       "    .dataframe tbody tr th:only-of-type {\n",
       "        vertical-align: middle;\n",
       "    }\n",
       "\n",
       "    .dataframe tbody tr th {\n",
       "        vertical-align: top;\n",
       "    }\n",
       "\n",
       "    .dataframe thead th {\n",
       "        text-align: right;\n",
       "    }\n",
       "</style>\n",
       "<table border=\"1\" class=\"dataframe\">\n",
       "  <thead>\n",
       "    <tr style=\"text-align: right;\">\n",
       "      <th></th>\n",
       "      <th>Date</th>\n",
       "      <th>Store ID</th>\n",
       "      <th>Product ID</th>\n",
       "      <th>Quantity sold</th>\n",
       "    </tr>\n",
       "  </thead>\n",
       "  <tbody>\n",
       "    <tr>\n",
       "      <th>0</th>\n",
       "      <td>2001-02-04</td>\n",
       "      <td>S1</td>\n",
       "      <td>P1</td>\n",
       "      <td>53</td>\n",
       "    </tr>\n",
       "    <tr>\n",
       "      <th>1</th>\n",
       "      <td>2001-02-07</td>\n",
       "      <td>S1</td>\n",
       "      <td>P2</td>\n",
       "      <td>95</td>\n",
       "    </tr>\n",
       "    <tr>\n",
       "      <th>2</th>\n",
       "      <td>2001-02-08</td>\n",
       "      <td>S1</td>\n",
       "      <td>P3</td>\n",
       "      <td>89</td>\n",
       "    </tr>\n",
       "    <tr>\n",
       "      <th>3</th>\n",
       "      <td>2001-02-15</td>\n",
       "      <td>S1</td>\n",
       "      <td>P4</td>\n",
       "      <td>49</td>\n",
       "    </tr>\n",
       "    <tr>\n",
       "      <th>4</th>\n",
       "      <td>2001-02-20</td>\n",
       "      <td>S1</td>\n",
       "      <td>P5</td>\n",
       "      <td>130</td>\n",
       "    </tr>\n",
       "  </tbody>\n",
       "</table>\n",
       "</div>"
      ],
      "text/plain": [
       "         Date Store ID Product ID  Quantity sold\n",
       "0  2001-02-04       S1         P1             53\n",
       "1  2001-02-07       S1         P2             95\n",
       "2  2001-02-08       S1         P3             89\n",
       "3  2001-02-15       S1         P4             49\n",
       "4  2001-02-20       S1         P5            130"
      ]
     },
     "execution_count": 70,
     "metadata": {},
     "output_type": "execute_result"
    }
   ],
   "source": [
    "cp=os.getcwd()\n",
    "data=[]\n",
    "for dir , _ , fp in os.walk(cp):\n",
    "    for f in fp:\n",
    "        if f.endswith('.csv') and f!='product_names.csv' and f!='sales_summary.csv':\n",
    "            filepath=os.path.join(dir,f)\n",
    "            df=pd.read_csv(filepath)\n",
    "            data.append(df)\n",
    "combined_data=pd.concat(data,ignore_index=True)\n",
    "combined_data.head()"
   ]
  },
  {
   "cell_type": "markdown",
   "metadata": {},
   "source": [
    "# Dropping data of invalid dates."
   ]
  },
  {
   "cell_type": "code",
   "execution_count": 71,
   "metadata": {},
   "outputs": [],
   "source": [
    "combined_data['Date']=pd.to_datetime(combined_data['Date'],errors='coerce')"
   ]
  },
  {
   "cell_type": "markdown",
   "metadata": {},
   "source": [
    "# Handling Error"
   ]
  },
  {
   "cell_type": "code",
   "execution_count": 72,
   "metadata": {},
   "outputs": [],
   "source": [
    "rows_to_drop=[]\n",
    "for i,r in combined_data.iterrows():\n",
    "    quantity=r['Quantity sold']\n",
    "    if not isinstance(quantity,list):\n",
    "        quantity=[quantity]\n",
    "    try:\n",
    "        for q in quantity:\n",
    "            if q<0:\n",
    "                raise ValueError(\"Quantity cannot be negative.\")\n",
    "            elif not isinstance(q,int):\n",
    "                raise TypeError(\"Quantity must be an integer.\")\n",
    "    except ValueError as e:\n",
    "        print(e)\n",
    "        rows_to_drop.append(i)\n",
    "    except TypeError as e:\n",
    "        print(e)\n",
    "        rows_to_drop.append(i)\n",
    "combined_data=combined_data.drop(rows_to_drop).reset_index(drop=True)"
   ]
  },
  {
   "cell_type": "markdown",
   "metadata": {},
   "source": [
    "# Calculating Total sales for each product across all stores and months"
   ]
  },
  {
   "cell_type": "code",
   "execution_count": 73,
   "metadata": {},
   "outputs": [
    {
     "data": {
      "text/html": [
       "<div>\n",
       "<style scoped>\n",
       "    .dataframe tbody tr th:only-of-type {\n",
       "        vertical-align: middle;\n",
       "    }\n",
       "\n",
       "    .dataframe tbody tr th {\n",
       "        vertical-align: top;\n",
       "    }\n",
       "\n",
       "    .dataframe thead th {\n",
       "        text-align: right;\n",
       "    }\n",
       "</style>\n",
       "<table border=\"1\" class=\"dataframe\">\n",
       "  <thead>\n",
       "    <tr style=\"text-align: right;\">\n",
       "      <th></th>\n",
       "      <th>Product ID</th>\n",
       "      <th>Quantity sold</th>\n",
       "    </tr>\n",
       "  </thead>\n",
       "  <tbody>\n",
       "    <tr>\n",
       "      <th>0</th>\n",
       "      <td>P1</td>\n",
       "      <td>3371</td>\n",
       "    </tr>\n",
       "    <tr>\n",
       "      <th>1</th>\n",
       "      <td>P2</td>\n",
       "      <td>3403</td>\n",
       "    </tr>\n",
       "    <tr>\n",
       "      <th>2</th>\n",
       "      <td>P3</td>\n",
       "      <td>3455</td>\n",
       "    </tr>\n",
       "    <tr>\n",
       "      <th>3</th>\n",
       "      <td>P4</td>\n",
       "      <td>3024</td>\n",
       "    </tr>\n",
       "    <tr>\n",
       "      <th>4</th>\n",
       "      <td>P5</td>\n",
       "      <td>3424</td>\n",
       "    </tr>\n",
       "  </tbody>\n",
       "</table>\n",
       "</div>"
      ],
      "text/plain": [
       "  Product ID  Quantity sold\n",
       "0         P1           3371\n",
       "1         P2           3403\n",
       "2         P3           3455\n",
       "3         P4           3024\n",
       "4         P5           3424"
      ]
     },
     "execution_count": 73,
     "metadata": {},
     "output_type": "execute_result"
    }
   ],
   "source": [
    "total=combined_data.groupby('Product ID')['Quantity sold'].sum().reset_index()\n",
    "total.head()"
   ]
  },
  {
   "cell_type": "markdown",
   "metadata": {},
   "source": [
    "# Calculating top 5 best selling products in terms of sales"
   ]
  },
  {
   "cell_type": "code",
   "execution_count": 74,
   "metadata": {},
   "outputs": [
    {
     "name": "stdout",
     "output_type": "stream",
     "text": [
      "Top 5 best selling products: \n",
      "P3 : 3455\n",
      "P5 : 3424\n",
      "P2 : 3403\n",
      "P1 : 3371\n",
      "P4 : 3024\n"
     ]
    }
   ],
   "source": [
    "top5=total.sort_values('Quantity sold',ascending=False).head()\n",
    "print(\"Top 5 best selling products: \")\n",
    "for pid,quantity in zip(top5['Product ID'],top5['Quantity sold']):\n",
    "    print(f\"{pid} : {quantity}\")"
   ]
  },
  {
   "cell_type": "markdown",
   "metadata": {},
   "source": [
    "# Calculating the average quantity sold per month"
   ]
  },
  {
   "cell_type": "code",
   "execution_count": 75,
   "metadata": {},
   "outputs": [],
   "source": [
    "combined_data['Month']=combined_data['Date'].dt.month\n",
    "avg=combined_data.groupby(['Product ID','Month'])['Quantity sold'].sum().reset_index()\n",
    "final_avg=avg.groupby('Product ID').agg(Average_Quantity_Sold=('Quantity sold','mean')).reset_index()"
   ]
  },
  {
   "cell_type": "markdown",
   "metadata": {},
   "source": [
    "# Creating a new csv file \"Sales_summary.csv\""
   ]
  },
  {
   "cell_type": "code",
   "execution_count": 76,
   "metadata": {},
   "outputs": [],
   "source": [
    "pdf=pd.read_csv('product_names.csv')\n",
    "m1=pd.merge(pdf,total,on='Product ID',how='inner')\n",
    "m2=pd.merge(m1,final_avg,on='Product ID',how='inner')\n",
    "m2.to_csv('sales_summary.csv',index=False)"
   ]
  }
 ],
 "metadata": {
  "kernelspec": {
   "display_name": "Python 3",
   "language": "python",
   "name": "python3"
  },
  "language_info": {
   "codemirror_mode": {
    "name": "ipython",
    "version": 3
   },
   "file_extension": ".py",
   "mimetype": "text/x-python",
   "name": "python",
   "nbconvert_exporter": "python",
   "pygments_lexer": "ipython3",
   "version": "3.12.4"
  }
 },
 "nbformat": 4,
 "nbformat_minor": 2
}
